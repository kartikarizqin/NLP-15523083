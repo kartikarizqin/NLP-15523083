{
 "cells": [
  {
   "cell_type": "code",
   "execution_count": 2,
   "metadata": {},
   "outputs": [],
   "source": [
    "import nltk #import library nltk\n",
    "from nltk.tokenize import word_tokenize #import word_tokenize for tokenizing text into words \n",
    "from nltk.tokenize import sent_tokenize #import sent_tokenize for tokenizing paragraph into sentences\n",
    "from nltk.stem.porter import PorterStemmer #import Porter Stemmer Algorithm \n",
    "from nltk.stem import WordNetLemmatizer #import WordNet lemmatizer \n",
    "from nltk.corpus import stopwords #import stopwords\n",
    "from Sastrawi.Stemmer.StemmerFactory import StemmerFactory #import Indonesian Stemmer\n",
    "import re #import regular expression\n",
    "from nltk.tokenize import RegexpTokenizer\n",
    "from Sastrawi.StopWordRemover.StopWordRemoverFactory import StopWordRemoverFactory"
   ]
  },
  {
   "cell_type": "code",
   "execution_count": 22,
   "metadata": {},
   "outputs": [],
   "source": [
    "#sentence tokenization\n",
    "def sentence_tokenization(s):\n",
    "    sentences_list = sent_tokenize(s)\n",
    "    return sentences_list\n",
    "\n",
    "#remove links from string\n",
    "def removelink(str):\n",
    "    new_string =  re.sub(r\"http\\S+\", \"\", str)\n",
    "    return new_string\n",
    "\n",
    "#remove punctuation from string\n",
    "def removepunc(str):\n",
    "    new_string =  re.sub(r\"[&@#,-;â€¦!_()']\",\" \", str)\n",
    "    return new_string\n",
    "\n",
    "def removespace(s):\n",
    "    new_string = re.sub(' +', ' ',s)\n",
    "    return new_string\n",
    "\n",
    "def removeshortwords(str):\n",
    "    new_string = re.sub(r'\\b\\w{1,3}\\b', '', str)\n",
    "    return new_string\n",
    "\n",
    "def stpwrds(str):\n",
    "    stop_words = set(stopwords.words('indonesian'))\n",
    "    word_tokens = word_tokenize(str) \n",
    "    filtered_sentence = [w for w in word_tokens if not w in stop_words]  \n",
    "    filtered_sentence = [] \n",
    "    \n",
    "    for w in word_tokens: \n",
    "        if w not in stop_words: \n",
    "            filtered_sentence.append(w)\n",
    "    return filtered_sentence"
   ]
  },
  {
   "cell_type": "code",
   "execution_count": 23,
   "metadata": {},
   "outputs": [
    {
     "name": "stdout",
     "output_type": "stream",
     "text": [
      "Siang langsung Kebidanan Terima kasih Jadwal Kegiatan Dies Natalis Catat tanggalnya semarakkan acaranya Coming soon Rangkaian Acara Dies Natalis Universitas Brawijaya Beasiswa AMINEF Untuk Pengajar Bahasa Inggris Deadline aplikasi tanggal April Official Beasiswa Training Studi Lanjut Belgia Official UBTV Brawijaya Periksa Soal Untuk klik nomornya Tombol SELESAI klik nilai kompetensi menit Excel Point Word Soal orang berbeda bank UnileverIDN Prosesi penutupan Bulan Kesehatan Gigi Nasional Univ Brawijaya BKGN Pepsodent Official TanyaPepsodent Selamat siang Untuk jadwal penerimaan mahasiswa kempanrb Korpri meneguhkan netralitas meningkatkan profesionalisme Aparatur Sipil Negara Selamat KORPRI Sosialisasi Studi Beasiswa Swedia Rektorat Free entry kuota terbatas kursi Kesempatan terbaru studi negeri beasiswa Informasi lengkap forget British Winter Education Fair Today Gedung Kebudayaan Mahasiswa Official Program Pertukaran Pelajar AMINEF Official Fullbright Scholarship dibuka silahkan mengunjungi Official British Winter Education Fair miss Scholarships info many more Official UBTV Brawijaya International Student Summit agenda tahunan DIKTI kompetisi mahasiswa asing lokal Indonesia Official Sosialisasi International Student Summit Competition UNAIR Hari Kamis Rektorat Free Pengumuman Jadwal Test Sertifikasi Kompetensi Gelombang Nuffic Neso DAAD menawarkan beasiswa pendidikan summer course pelatihan Salah partner Ritsumeikan University membuka Short term Exchange Program Official Rektor selamat berbahagialah mahasiswa Selamat belajar RajaBrawijaya Pusaka Pelepasan balon Rektor Dirjen Kemenristekdikti Dengan dibunyikannya gong resmi pelaksanaan Maba RajaBrawijaya Pusaka Rektor Universitas Brawijaya beserta jajaran undangan memasuki lapangan upacara RajaBrawijaya Pusaka Dukung INFO Pintu gerbang dibuka Selasa Agustus selesai RajaBrawijaya INFO Pintu Gerbang dibuka Pintu Gerbang Veteran Pintu Gerbang RajaBrawijaya INFO Penutupan dilaksanakan Selasa Agustus RajaBrawijaya INFO Penutupan jalan masuk Pintu Gerbang Veteran Haryono Makam KPRI RajaBrawijaya INFO Sehubungan diselenggarakannya Maba RajaBrawijaya diberitahukan\n"
     ]
    }
   ],
   "source": [
    "def main():\n",
    "    file = open('tweet-data.txt', 'r')\n",
    "    text_data = file.read()\n",
    "    td = sentence_tokenization(text_data)\n",
    "    par = ' '.join(td)\n",
    "    rml = removelink(par)\n",
    "    rmp = removepunc(rml)\n",
    "    rms = removespace(rmp)\n",
    "    rmsw = removeshortwords(rms)\n",
    "    filt = stpwrds(rmsw)\n",
    "    par = ' '.join(filt)\n",
    "    \n",
    "    print(par)\n",
    "    \n",
    "if __name__== \"__main__\":\n",
    "    main()"
   ]
  }
 ],
 "metadata": {
  "kernelspec": {
   "display_name": "Python 3",
   "language": "python",
   "name": "python3"
  },
  "language_info": {
   "codemirror_mode": {
    "name": "ipython",
    "version": 3
   },
   "file_extension": ".py",
   "mimetype": "text/x-python",
   "name": "python",
   "nbconvert_exporter": "python",
   "pygments_lexer": "ipython3",
   "version": "3.6.5"
  }
 },
 "nbformat": 4,
 "nbformat_minor": 2
}
