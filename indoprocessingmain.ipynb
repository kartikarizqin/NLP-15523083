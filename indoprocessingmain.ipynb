{
 "cells": [
  {
   "cell_type": "code",
   "execution_count": 1,
   "metadata": {},
   "outputs": [],
   "source": [
    "import nltk #import library nltk\n",
    "from nltk.tokenize import word_tokenize #import word_tokenize for tokenizing text into words \n",
    "from nltk.tokenize import sent_tokenize #import sent_tokenize for tokenizing paragraph into sentences\n",
    "from nltk.stem.porter import PorterStemmer #import Porter Stemmer Algorithm \n",
    "from nltk.stem import WordNetLemmatizer #import WordNet lemmatizer \n",
    "from nltk.corpus import stopwords #import stopwords\n",
    "from Sastrawi.Stemmer.StemmerFactory import StemmerFactory #import Indonesian Stemmer\n",
    "import re #import regular expression\n",
    "from nltk.tokenize import RegexpTokenizer\n",
    "from Sastrawi.StopWordRemover.StopWordRemoverFactory import StopWordRemoverFactory\n",
    "from collections import Counter"
   ]
  },
  {
   "cell_type": "code",
   "execution_count": 7,
   "metadata": {},
   "outputs": [],
   "source": [
    "#casefolding\n",
    "def casefolding(s):\n",
    "    new_str = s.lower()  \n",
    "    return new_str\n",
    "\n",
    "#remove punctuation from string\n",
    "def removepunct(str):\n",
    "    new_string =  re.sub(r\"[\\W]\", \" \", str)\n",
    "    return new_string\n",
    "\n",
    "#stopwords\n",
    "def stpwrds(str):\n",
    "    stop_words = set(stopwords.words('indonesian'))\n",
    "    word_tokens = word_tokenize(str) \n",
    "    filtered_sentence = [w for w in word_tokens if not w in stop_words]  \n",
    "    filtered_sentence = [] \n",
    "    \n",
    "    for w in word_tokens: \n",
    "        if w not in stop_words: \n",
    "            filtered_sentence.append(w)\n",
    "    return filtered_sentence\n",
    "\n",
    "#Stemming Indonesian\n",
    "def stemmingindo(str):\n",
    "    factory = StemmerFactory()\n",
    "    stemmer = factory.create_stemmer()\n",
    "    return stemmer.stem(str)\n",
    "\n",
    "def word_tokenization(s):\n",
    "    tokens = word_tokenize(s)\n",
    "    return tokens\n",
    "\n",
    "#pos tagging\n",
    "def postag(str):\n",
    "    tok_sentence = nltk.word_tokenize(str)\n",
    "    tagged_sentence = nltk.pos_tag(tok_sentence)\n",
    "    return tagged_sentence"
   ]
  },
  {
   "cell_type": "code",
   "execution_count": 8,
   "metadata": {},
   "outputs": [
    {
     "name": "stdout",
     "output_type": "stream",
     "text": [
      "[('indonesia', 'NN'), ('alih', 'NN'), ('produsen', 'NN'), ('utama', 'JJ'), ('industri', 'NN'), ('halal', 'NN'), ('dunia', 'NN'), ('bank', 'NN'), ('indonesia', 'NN'), ('bi', 'NN'), ('selenggara', 'VBD'), ('international', 'JJ'), ('halal', 'NN'), ('lifestyle', 'JJ'), ('conference', 'NN'), ('and', 'CC'), ('business', 'NN'), ('forum', 'NN'), ('konferensi', 'NN'), ('forum', 'NN'), ('bisnis', 'NN'), ('gaya', 'NN'), ('hidup', 'NN'), ('halal', 'VBD'), ('internasional', 'JJ'), ('kenal', 'JJ'), ('potensi', 'NN'), ('indonesia', 'NN'), ('rantai', 'NN'), ('industri', 'NN'), ('halal', 'NN'), ('global', 'JJ'), ('direktur', 'NN'), ('uang', 'JJ'), ('syariah', 'NN'), ('bi', 'NN'), ('anwar', 'JJ'), ('bashori', 'NN'), ('senin', 'NN'), ('bi', 'NN'), ('bekerjasama', 'NN'), ('halal', 'NN'), ('lifestyle', 'NN'), ('center', 'NN'), ('konferensi', 'NN'), ('selenggara', 'NN'), ('jakarta', 'NN'), ('convention', 'NN'), ('center', 'NN'), ('tanggal', 'VBD'), ('3', 'CD'), ('5', 'CD'), ('oktober', 'NN'), ('peluang', 'NN'), ('pasar', 'NN'), ('produk', 'NN'), ('halal', 'NN'), ('tingkat', 'NN'), ('pesat', 'VBD'), ('tingkat', 'JJ'), ('tren', 'NNS'), ('halal', 'VBP'), ('pasar', 'NN'), ('global', 'JJ'), ('indonesia', 'NN'), ('negara', 'JJ'), ('produsen', 'NN'), ('utama', 'JJ'), ('produk', 'NN'), ('halal', 'NN'), ('tantang', 'NN'), ('minta', 'NN'), ('pasar', 'NN'), ('domestik', 'NN'), ('main', 'JJ'), ('peran', 'NN'), ('konsumen', 'NNS'), ('indonesia', 'VBP'), ('alih', 'JJ'), ('posisi', 'NN'), ('produsen', 'NN'), ('produk', 'NN'), ('halal', 'NN'), ('kuat', 'NN'), ('industri', 'NN'), ('halal', 'NN'), ('anwar', 'JJ'), ('dasar', 'NN'), ('data', 'NNS'), ('kini', 'NN'), ('global', 'JJ'), ('islamic', 'JJ'), ('economic', 'JJ'), ('report', 'NN'), ('2017', 'CD'), ('2018', 'CD'), ('indonesia', 'NN'), ('posisi', 'VBD'), ('11', 'CD'), ('indikator', 'NN'), ('uang', 'JJ'), ('islam', 'NN'), ('fakta', 'NN'), ('negara', 'NN'), ('milik', 'NN'), ('populasi', 'NN'), ('muslim', 'NN'), ('besar', 'NN'), ('dunia', 'NN'), ('negara', 'NN'), ('tetangga', 'NN'), ('malaysia', 'NN'), ('posisi', 'NN'), ('atas', 'NNS'), ('ketua', 'VBP'), ('halal', 'JJ'), ('lifestyle', 'NN'), ('center', 'NN'), ('sapta', 'NN'), ('nirwandar', 'NN'), ('indonesia', 'NN'), ('tingkat', 'NN'), ('industri', 'NN'), ('makan', 'NN'), ('halal', 'NN'), ('cipta', 'NN'), ('ekosistem', 'NN'), ('industri', 'JJ'), ('halal', 'NN'), ('dukung', 'NN'), ('atur', 'VBP'), ('pasar', 'NN'), ('efektif', 'NN'), ('koordinasi', 'NN'), ('sektor', 'NN'), ('sektor', 'NN'), ('kait', 'NN'), ('milik', 'NN'), ('atur', 'NN'), ('cipta', 'NN'), ('ekosistem', 'NN'), ('halal', 'JJ'), ('sektor', 'NN'), ('pisah', 'NN'), ('maksud', 'NN'), ('hubung', 'NN'), ('pariwisata', 'NN'), ('halal', 'NN'), ('makan', 'JJ'), ('halal', 'JJ'), ('hotel', 'NN'), ('halal', 'NN')]\n",
      "Counter({'halal': 17, 'indonesia': 7, 'industri': 5, 'pasar': 4, 'produsen': 3, 'bi': 3, 'lifestyle': 3, 'global': 3, 'center': 3, 'produk': 3, 'tingkat': 3, 'negara': 3, 'posisi': 3, 'sektor': 3, 'alih': 2, 'utama': 2, 'dunia': 2, 'selenggara': 2, 'forum': 2, 'konferensi': 2, 'uang': 2, 'anwar': 2, 'milik': 2, 'makan': 2, 'cipta': 2, 'ekosistem': 2, 'atur': 2, 'bank': 1, 'international': 1, 'conference': 1, 'and': 1, 'business': 1, 'bisnis': 1, 'gaya': 1, 'hidup': 1, 'internasional': 1, 'kenal': 1, 'potensi': 1, 'rantai': 1, 'direktur': 1, 'syariah': 1, 'bashori': 1, 'senin': 1, 'bekerjasama': 1, 'jakarta': 1, 'convention': 1, 'tanggal': 1, '3': 1, '5': 1, 'oktober': 1, 'peluang': 1, 'pesat': 1, 'tren': 1, 'tantang': 1, 'minta': 1, 'domestik': 1, 'main': 1, 'peran': 1, 'konsumen': 1, 'kuat': 1, 'dasar': 1, 'data': 1, 'kini': 1, 'islamic': 1, 'economic': 1, 'report': 1, '2017': 1, '2018': 1, '11': 1, 'indikator': 1, 'islam': 1, 'fakta': 1, 'populasi': 1, 'muslim': 1, 'besar': 1, 'tetangga': 1, 'malaysia': 1, 'atas': 1, 'ketua': 1, 'sapta': 1, 'nirwandar': 1, 'dukung': 1, 'efektif': 1, 'koordinasi': 1, 'kait': 1, 'pisah': 1, 'maksud': 1, 'hubung': 1, 'pariwisata': 1, 'hotel': 1})\n"
     ]
    }
   ],
   "source": [
    "def main():\n",
    "    file = open('artikel1.txt', 'r')\n",
    "    text_data = file.read()\n",
    "    cf = casefolding(text_data)\n",
    "    rp = removepunct(cf)\n",
    "    filt = stpwrds(rp)\n",
    "    par = ' '.join(filt)\n",
    "    stindo = stemmingindo(par)\n",
    "    wordtoken = word_tokenization(stindo)\n",
    "    post = postag(stindo)\n",
    "    counts = Counter(wordtoken)\n",
    "    \n",
    "    print(post)\n",
    "    print(counts)\n",
    "    \n",
    "if __name__== \"__main__\":\n",
    "    main()"
   ]
  }
 ],
 "metadata": {
  "kernelspec": {
   "display_name": "Python 3",
   "language": "python",
   "name": "python3"
  },
  "language_info": {
   "codemirror_mode": {
    "name": "ipython",
    "version": 3
   },
   "file_extension": ".py",
   "mimetype": "text/x-python",
   "name": "python",
   "nbconvert_exporter": "python",
   "pygments_lexer": "ipython3",
   "version": "3.6.5"
  }
 },
 "nbformat": 4,
 "nbformat_minor": 2
}
